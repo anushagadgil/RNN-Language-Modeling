{
 "cells": [
  {
   "cell_type": "code",
   "execution_count": 59,
   "metadata": {
    "id": "d0icwLiTfwgf"
   },
   "outputs": [],
   "source": [
    "from numpy import array\n",
    "from keras.models import Sequential\n",
    "from keras.layers import LSTM, GRU\n",
    "from keras.layers import Dense\n",
    "\n",
    "import matplotlib as plt\n",
    "get_ipython().magic(u'matplotlib inline')\n",
    "\n",
    "import datetime as dt, itertools, pandas as pd, matplotlib.pyplot as plt, numpy as np\n"
   ]
  },
  {
   "cell_type": "code",
   "execution_count": 60,
   "metadata": {
    "id": "q4KAX1G_fwgh"
   },
   "outputs": [],
   "source": [
    "def split_sequence(sequence, n_steps=7, lookahead=0):\n",
    "    X, y = list(), list()\n",
    "    for i in range(lookahead,len(sequence)):\n",
    "        # find the end of this pattern\n",
    "        end_ix = i + n_steps\n",
    "        # check if we are beyond the sequence\n",
    "        if end_ix >= len(sequence):\n",
    "            break\n",
    "        # gather input and output parts of the pattern\n",
    "        seq_x, seq_y = sequence[i-lookahead:end_ix-lookahead], sequence[end_ix]\n",
    "        X.append(seq_x)\n",
    "        y.append(seq_y)\n",
    "    return array(X), array(y)"
   ]
  },
  {
   "cell_type": "markdown",
   "metadata": {
    "id": "6_z_kwSHfwgh"
   },
   "source": [
    "### Data preprocessing"
   ]
  },
  {
   "cell_type": "code",
   "execution_count": 56,
   "metadata": {
    "colab": {
     "base_uri": "https://localhost:8080/",
     "height": 534
    },
    "id": "ynVRydtwfwgi",
    "outputId": "0c7e4fb5-5b9d-4e1e-b3b5-d08069f661fa"
   },
   "outputs": [
    {
     "data": {
      "application/vnd.google.colaboratory.intrinsic+json": {
       "summary": "{\n  \"name\": \"tsdataframe\",\n  \"rows\": 3652,\n  \"fields\": [\n    {\n      \"column\": \"Date\",\n      \"properties\": {\n        \"dtype\": \"object\",\n        \"num_unique_values\": 3652,\n        \"samples\": [\n          \"8/6/2009\",\n          \"8/2/2010\",\n          \"8/18/2006\"\n        ],\n        \"semantic_type\": \"\",\n        \"description\": \"\"\n      }\n    },\n    {\n      \"column\": \"Price\",\n      \"properties\": {\n        \"dtype\": \"number\",\n        \"std\": 375.62061210116724,\n        \"min\": 339.5900383,\n        \"max\": 2204.797101,\n        \"num_unique_values\": 3651,\n        \"samples\": [\n          1034.35942,\n          560.8842239,\n          655.2231076\n        ],\n        \"semantic_type\": \"\",\n        \"description\": \"\"\n      }\n    }\n  ]\n}",
       "type": "dataframe",
       "variable_name": "tsdataframe"
      },
      "text/html": [
       "\n",
       "  <div id=\"df-a179f45b-f005-44cc-bc28-bfde05ebd6f7\" class=\"colab-df-container\">\n",
       "    <div>\n",
       "<style scoped>\n",
       "    .dataframe tbody tr th:only-of-type {\n",
       "        vertical-align: middle;\n",
       "    }\n",
       "\n",
       "    .dataframe tbody tr th {\n",
       "        vertical-align: top;\n",
       "    }\n",
       "\n",
       "    .dataframe thead th {\n",
       "        text-align: right;\n",
       "    }\n",
       "</style>\n",
       "<table border=\"1\" class=\"dataframe\">\n",
       "  <thead>\n",
       "    <tr style=\"text-align: right;\">\n",
       "      <th></th>\n",
       "      <th>Date</th>\n",
       "      <th>Price</th>\n",
       "    </tr>\n",
       "  </thead>\n",
       "  <tbody>\n",
       "    <tr>\n",
       "      <th>0</th>\n",
       "      <td>1/1/2006</td>\n",
       "      <td>569.865168</td>\n",
       "    </tr>\n",
       "    <tr>\n",
       "      <th>1</th>\n",
       "      <td>1/2/2006</td>\n",
       "      <td>593.271930</td>\n",
       "    </tr>\n",
       "    <tr>\n",
       "      <th>2</th>\n",
       "      <td>1/3/2006</td>\n",
       "      <td>606.471193</td>\n",
       "    </tr>\n",
       "    <tr>\n",
       "      <th>3</th>\n",
       "      <td>1/4/2006</td>\n",
       "      <td>576.932773</td>\n",
       "    </tr>\n",
       "    <tr>\n",
       "      <th>4</th>\n",
       "      <td>1/5/2006</td>\n",
       "      <td>573.812500</td>\n",
       "    </tr>\n",
       "    <tr>\n",
       "      <th>...</th>\n",
       "      <td>...</td>\n",
       "      <td>...</td>\n",
       "    </tr>\n",
       "    <tr>\n",
       "      <th>3647</th>\n",
       "      <td>12/27/2015</td>\n",
       "      <td>832.554167</td>\n",
       "    </tr>\n",
       "    <tr>\n",
       "      <th>3648</th>\n",
       "      <td>12/28/2015</td>\n",
       "      <td>880.513919</td>\n",
       "    </tr>\n",
       "    <tr>\n",
       "      <th>3649</th>\n",
       "      <td>12/29/2015</td>\n",
       "      <td>856.883910</td>\n",
       "    </tr>\n",
       "    <tr>\n",
       "      <th>3650</th>\n",
       "      <td>12/30/2015</td>\n",
       "      <td>888.002212</td>\n",
       "    </tr>\n",
       "    <tr>\n",
       "      <th>3651</th>\n",
       "      <td>12/31/2015</td>\n",
       "      <td>918.498795</td>\n",
       "    </tr>\n",
       "  </tbody>\n",
       "</table>\n",
       "<p>3652 rows × 2 columns</p>\n",
       "</div>\n",
       "    <div class=\"colab-df-buttons\">\n",
       "\n",
       "  <div class=\"colab-df-container\">\n",
       "    <button class=\"colab-df-convert\" onclick=\"convertToInteractive('df-a179f45b-f005-44cc-bc28-bfde05ebd6f7')\"\n",
       "            title=\"Convert this dataframe to an interactive table.\"\n",
       "            style=\"display:none;\">\n",
       "\n",
       "  <svg xmlns=\"http://www.w3.org/2000/svg\" height=\"24px\" viewBox=\"0 -960 960 960\">\n",
       "    <path d=\"M120-120v-720h720v720H120Zm60-500h600v-160H180v160Zm220 220h160v-160H400v160Zm0 220h160v-160H400v160ZM180-400h160v-160H180v160Zm440 0h160v-160H620v160ZM180-180h160v-160H180v160Zm440 0h160v-160H620v160Z\"/>\n",
       "  </svg>\n",
       "    </button>\n",
       "\n",
       "  <style>\n",
       "    .colab-df-container {\n",
       "      display:flex;\n",
       "      gap: 12px;\n",
       "    }\n",
       "\n",
       "    .colab-df-convert {\n",
       "      background-color: #E8F0FE;\n",
       "      border: none;\n",
       "      border-radius: 50%;\n",
       "      cursor: pointer;\n",
       "      display: none;\n",
       "      fill: #1967D2;\n",
       "      height: 32px;\n",
       "      padding: 0 0 0 0;\n",
       "      width: 32px;\n",
       "    }\n",
       "\n",
       "    .colab-df-convert:hover {\n",
       "      background-color: #E2EBFA;\n",
       "      box-shadow: 0px 1px 2px rgba(60, 64, 67, 0.3), 0px 1px 3px 1px rgba(60, 64, 67, 0.15);\n",
       "      fill: #174EA6;\n",
       "    }\n",
       "\n",
       "    .colab-df-buttons div {\n",
       "      margin-bottom: 4px;\n",
       "    }\n",
       "\n",
       "    [theme=dark] .colab-df-convert {\n",
       "      background-color: #3B4455;\n",
       "      fill: #D2E3FC;\n",
       "    }\n",
       "\n",
       "    [theme=dark] .colab-df-convert:hover {\n",
       "      background-color: #434B5C;\n",
       "      box-shadow: 0px 1px 3px 1px rgba(0, 0, 0, 0.15);\n",
       "      filter: drop-shadow(0px 1px 2px rgba(0, 0, 0, 0.3));\n",
       "      fill: #FFFFFF;\n",
       "    }\n",
       "  </style>\n",
       "\n",
       "    <script>\n",
       "      const buttonEl =\n",
       "        document.querySelector('#df-a179f45b-f005-44cc-bc28-bfde05ebd6f7 button.colab-df-convert');\n",
       "      buttonEl.style.display =\n",
       "        google.colab.kernel.accessAllowed ? 'block' : 'none';\n",
       "\n",
       "      async function convertToInteractive(key) {\n",
       "        const element = document.querySelector('#df-a179f45b-f005-44cc-bc28-bfde05ebd6f7');\n",
       "        const dataTable =\n",
       "          await google.colab.kernel.invokeFunction('convertToInteractive',\n",
       "                                                    [key], {});\n",
       "        if (!dataTable) return;\n",
       "\n",
       "        const docLinkHtml = 'Like what you see? Visit the ' +\n",
       "          '<a target=\"_blank\" href=https://colab.research.google.com/notebooks/data_table.ipynb>data table notebook</a>'\n",
       "          + ' to learn more about interactive tables.';\n",
       "        element.innerHTML = '';\n",
       "        dataTable['output_type'] = 'display_data';\n",
       "        await google.colab.output.renderOutput(dataTable, element);\n",
       "        const docLink = document.createElement('div');\n",
       "        docLink.innerHTML = docLinkHtml;\n",
       "        element.appendChild(docLink);\n",
       "      }\n",
       "    </script>\n",
       "  </div>\n",
       "\n",
       "\n",
       "<div id=\"df-df908919-dd15-4e7f-9795-9451cdf9f61c\">\n",
       "  <button class=\"colab-df-quickchart\" onclick=\"quickchart('df-df908919-dd15-4e7f-9795-9451cdf9f61c')\"\n",
       "            title=\"Suggest charts\"\n",
       "            style=\"display:none;\">\n",
       "\n",
       "<svg xmlns=\"http://www.w3.org/2000/svg\" height=\"24px\"viewBox=\"0 0 24 24\"\n",
       "     width=\"24px\">\n",
       "    <g>\n",
       "        <path d=\"M19 3H5c-1.1 0-2 .9-2 2v14c0 1.1.9 2 2 2h14c1.1 0 2-.9 2-2V5c0-1.1-.9-2-2-2zM9 17H7v-7h2v7zm4 0h-2V7h2v10zm4 0h-2v-4h2v4z\"/>\n",
       "    </g>\n",
       "</svg>\n",
       "  </button>\n",
       "\n",
       "<style>\n",
       "  .colab-df-quickchart {\n",
       "      --bg-color: #E8F0FE;\n",
       "      --fill-color: #1967D2;\n",
       "      --hover-bg-color: #E2EBFA;\n",
       "      --hover-fill-color: #174EA6;\n",
       "      --disabled-fill-color: #AAA;\n",
       "      --disabled-bg-color: #DDD;\n",
       "  }\n",
       "\n",
       "  [theme=dark] .colab-df-quickchart {\n",
       "      --bg-color: #3B4455;\n",
       "      --fill-color: #D2E3FC;\n",
       "      --hover-bg-color: #434B5C;\n",
       "      --hover-fill-color: #FFFFFF;\n",
       "      --disabled-bg-color: #3B4455;\n",
       "      --disabled-fill-color: #666;\n",
       "  }\n",
       "\n",
       "  .colab-df-quickchart {\n",
       "    background-color: var(--bg-color);\n",
       "    border: none;\n",
       "    border-radius: 50%;\n",
       "    cursor: pointer;\n",
       "    display: none;\n",
       "    fill: var(--fill-color);\n",
       "    height: 32px;\n",
       "    padding: 0;\n",
       "    width: 32px;\n",
       "  }\n",
       "\n",
       "  .colab-df-quickchart:hover {\n",
       "    background-color: var(--hover-bg-color);\n",
       "    box-shadow: 0 1px 2px rgba(60, 64, 67, 0.3), 0 1px 3px 1px rgba(60, 64, 67, 0.15);\n",
       "    fill: var(--button-hover-fill-color);\n",
       "  }\n",
       "\n",
       "  .colab-df-quickchart-complete:disabled,\n",
       "  .colab-df-quickchart-complete:disabled:hover {\n",
       "    background-color: var(--disabled-bg-color);\n",
       "    fill: var(--disabled-fill-color);\n",
       "    box-shadow: none;\n",
       "  }\n",
       "\n",
       "  .colab-df-spinner {\n",
       "    border: 2px solid var(--fill-color);\n",
       "    border-color: transparent;\n",
       "    border-bottom-color: var(--fill-color);\n",
       "    animation:\n",
       "      spin 1s steps(1) infinite;\n",
       "  }\n",
       "\n",
       "  @keyframes spin {\n",
       "    0% {\n",
       "      border-color: transparent;\n",
       "      border-bottom-color: var(--fill-color);\n",
       "      border-left-color: var(--fill-color);\n",
       "    }\n",
       "    20% {\n",
       "      border-color: transparent;\n",
       "      border-left-color: var(--fill-color);\n",
       "      border-top-color: var(--fill-color);\n",
       "    }\n",
       "    30% {\n",
       "      border-color: transparent;\n",
       "      border-left-color: var(--fill-color);\n",
       "      border-top-color: var(--fill-color);\n",
       "      border-right-color: var(--fill-color);\n",
       "    }\n",
       "    40% {\n",
       "      border-color: transparent;\n",
       "      border-right-color: var(--fill-color);\n",
       "      border-top-color: var(--fill-color);\n",
       "    }\n",
       "    60% {\n",
       "      border-color: transparent;\n",
       "      border-right-color: var(--fill-color);\n",
       "    }\n",
       "    80% {\n",
       "      border-color: transparent;\n",
       "      border-right-color: var(--fill-color);\n",
       "      border-bottom-color: var(--fill-color);\n",
       "    }\n",
       "    90% {\n",
       "      border-color: transparent;\n",
       "      border-bottom-color: var(--fill-color);\n",
       "    }\n",
       "  }\n",
       "</style>\n",
       "\n",
       "  <script>\n",
       "    async function quickchart(key) {\n",
       "      const quickchartButtonEl =\n",
       "        document.querySelector('#' + key + ' button');\n",
       "      quickchartButtonEl.disabled = true;  // To prevent multiple clicks.\n",
       "      quickchartButtonEl.classList.add('colab-df-spinner');\n",
       "      try {\n",
       "        const charts = await google.colab.kernel.invokeFunction(\n",
       "            'suggestCharts', [key], {});\n",
       "      } catch (error) {\n",
       "        console.error('Error during call to suggestCharts:', error);\n",
       "      }\n",
       "      quickchartButtonEl.classList.remove('colab-df-spinner');\n",
       "      quickchartButtonEl.classList.add('colab-df-quickchart-complete');\n",
       "    }\n",
       "    (() => {\n",
       "      let quickchartButtonEl =\n",
       "        document.querySelector('#df-df908919-dd15-4e7f-9795-9451cdf9f61c button');\n",
       "      quickchartButtonEl.style.display =\n",
       "        google.colab.kernel.accessAllowed ? 'block' : 'none';\n",
       "    })();\n",
       "  </script>\n",
       "</div>\n",
       "\n",
       "  <div id=\"id_09b75900-6cef-4309-a1da-a0f793abbc31\">\n",
       "    <style>\n",
       "      .colab-df-generate {\n",
       "        background-color: #E8F0FE;\n",
       "        border: none;\n",
       "        border-radius: 50%;\n",
       "        cursor: pointer;\n",
       "        display: none;\n",
       "        fill: #1967D2;\n",
       "        height: 32px;\n",
       "        padding: 0 0 0 0;\n",
       "        width: 32px;\n",
       "      }\n",
       "\n",
       "      .colab-df-generate:hover {\n",
       "        background-color: #E2EBFA;\n",
       "        box-shadow: 0px 1px 2px rgba(60, 64, 67, 0.3), 0px 1px 3px 1px rgba(60, 64, 67, 0.15);\n",
       "        fill: #174EA6;\n",
       "      }\n",
       "\n",
       "      [theme=dark] .colab-df-generate {\n",
       "        background-color: #3B4455;\n",
       "        fill: #D2E3FC;\n",
       "      }\n",
       "\n",
       "      [theme=dark] .colab-df-generate:hover {\n",
       "        background-color: #434B5C;\n",
       "        box-shadow: 0px 1px 3px 1px rgba(0, 0, 0, 0.15);\n",
       "        filter: drop-shadow(0px 1px 2px rgba(0, 0, 0, 0.3));\n",
       "        fill: #FFFFFF;\n",
       "      }\n",
       "    </style>\n",
       "    <button class=\"colab-df-generate\" onclick=\"generateWithVariable('tsdataframe')\"\n",
       "            title=\"Generate code using this dataframe.\"\n",
       "            style=\"display:none;\">\n",
       "\n",
       "  <svg xmlns=\"http://www.w3.org/2000/svg\" height=\"24px\"viewBox=\"0 0 24 24\"\n",
       "       width=\"24px\">\n",
       "    <path d=\"M7,19H8.4L18.45,9,17,7.55,7,17.6ZM5,21V16.75L18.45,3.32a2,2,0,0,1,2.83,0l1.4,1.43a1.91,1.91,0,0,1,.58,1.4,1.91,1.91,0,0,1-.58,1.4L9.25,21ZM18.45,9,17,7.55Zm-12,3A5.31,5.31,0,0,0,4.9,8.1,5.31,5.31,0,0,0,1,6.5,5.31,5.31,0,0,0,4.9,4.9,5.31,5.31,0,0,0,6.5,1,5.31,5.31,0,0,0,8.1,4.9,5.31,5.31,0,0,0,12,6.5,5.46,5.46,0,0,0,6.5,12Z\"/>\n",
       "  </svg>\n",
       "    </button>\n",
       "    <script>\n",
       "      (() => {\n",
       "      const buttonEl =\n",
       "        document.querySelector('#id_09b75900-6cef-4309-a1da-a0f793abbc31 button.colab-df-generate');\n",
       "      buttonEl.style.display =\n",
       "        google.colab.kernel.accessAllowed ? 'block' : 'none';\n",
       "\n",
       "      buttonEl.onclick = () => {\n",
       "        google.colab.notebook.generateWithVariable('tsdataframe');\n",
       "      }\n",
       "      })();\n",
       "    </script>\n",
       "  </div>\n",
       "\n",
       "    </div>\n",
       "  </div>\n"
      ],
      "text/plain": [
       "            Date       Price\n",
       "0       1/1/2006  569.865168\n",
       "1       1/2/2006  593.271930\n",
       "2       1/3/2006  606.471193\n",
       "3       1/4/2006  576.932773\n",
       "4       1/5/2006  573.812500\n",
       "...          ...         ...\n",
       "3647  12/27/2015  832.554167\n",
       "3648  12/28/2015  880.513919\n",
       "3649  12/29/2015  856.883910\n",
       "3650  12/30/2015  888.002212\n",
       "3651  12/31/2015  918.498795\n",
       "\n",
       "[3652 rows x 2 columns]"
      ]
     },
     "execution_count": 56,
     "metadata": {},
     "output_type": "execute_result"
    }
   ],
   "source": [
    "tsdataframe = pd.read_csv('/content/drive/MyDrive/timeseries_lab3.csv')\n",
    "tsdataframe"
   ]
  },
  {
   "cell_type": "code",
   "execution_count": 61,
   "metadata": {
    "colab": {
     "base_uri": "https://localhost:8080/"
    },
    "id": "cPVRvbel8w1-",
    "outputId": "7f9f722b-c79c-480c-e51f-2a12e6e10e10"
   },
   "outputs": [
    {
     "name": "stdout",
     "output_type": "stream",
     "text": [
      "Drive already mounted at /content/drive; to attempt to forcibly remount, call drive.mount(\"/content/drive\", force_remount=True).\n"
     ]
    }
   ],
   "source": [
    "from google.colab import drive\n",
    "drive.mount('/content/drive')"
   ]
  },
  {
   "cell_type": "code",
   "execution_count": 58,
   "metadata": {
    "id": "WHztD3HFfwgi"
   },
   "outputs": [],
   "source": [
    "tsdata = np.load('/content/drive/MyDrive/timeseries_lab3.npy')"
   ]
  },
  {
   "cell_type": "code",
   "execution_count": 23,
   "metadata": {
    "colab": {
     "base_uri": "https://localhost:8080/"
    },
    "id": "4T89gAnrfwgj",
    "outputId": "e683abcb-cc69-4f0e-fd48-b326448a694a"
   },
   "outputs": [
    {
     "data": {
      "text/plain": [
       "array([569.86516854, 593.27192983, 606.47119342, ..., 856.88391039,\n",
       "       888.00221239, 918.49879518])"
      ]
     },
     "execution_count": 23,
     "metadata": {},
     "output_type": "execute_result"
    }
   ],
   "source": [
    "tsdata"
   ]
  },
  {
   "cell_type": "code",
   "execution_count": 24,
   "metadata": {
    "colab": {
     "base_uri": "https://localhost:8080/",
     "height": 454
    },
    "id": "-YVVKieCfwgj",
    "outputId": "3471d5e8-c9e0-4a63-a20b-2dcc410eeb87"
   },
   "outputs": [
    {
     "data": {
      "text/plain": [
       "[<matplotlib.lines.Line2D at 0x7f4a65a26890>]"
      ]
     },
     "execution_count": 24,
     "metadata": {},
     "output_type": "execute_result"
    },
    {
     "data": {
      "image/png": "[encoded data removed]",
      "text/plain": [
       "<Figure size 640x480 with 1 Axes>"
      ]
     },
     "metadata": {},
     "output_type": "display_data"
    }
   ],
   "source": [
    "plt.plot(tsdata)"
   ]
  },
  {
   "cell_type": "code",
   "execution_count": 25,
   "metadata": {
    "id": "iOQ4Tw1hfwgj"
   },
   "outputs": [],
   "source": [
    "n_steps=7\n",
    "n_features = 1\n",
    "train_size = 2557"
   ]
  },
  {
   "cell_type": "code",
   "execution_count": 26,
   "metadata": {
    "id": "XC2rM2Fyfwgk"
   },
   "outputs": [],
   "source": [
    "X, y = split_sequence(tsdata,n_steps)"
   ]
  },
  {
   "cell_type": "code",
   "execution_count": 27,
   "metadata": {
    "colab": {
     "base_uri": "https://localhost:8080/"
    },
    "id": "6j8Zo6Epfwgk",
    "outputId": "2bffce48-2bab-4daf-d242-cb668c0b78aa"
   },
   "outputs": [
    {
     "data": {
      "text/plain": [
       "array([[569.86516854, 593.27192983, 606.47119342, ..., 573.8125    ,\n",
       "        576.17699115, 548.16748768],\n",
       "       [593.27192983, 606.47119342, 576.93277311, ..., 576.17699115,\n",
       "        548.16748768, 528.13043478],\n",
       "       [606.47119342, 576.93277311, 573.8125    , ..., 548.16748768,\n",
       "        528.13043478, 543.19517544],\n",
       "       ...,\n",
       "       [876.92110454, 923.34583333, 807.89142857, ..., 865.42385787,\n",
       "        832.55416667, 880.51391863],\n",
       "       [923.34583333, 807.89142857, 753.03703704, ..., 832.55416667,\n",
       "        880.51391863, 856.88391039],\n",
       "       [807.89142857, 753.03703704, 865.42385787, ..., 880.51391863,\n",
       "        856.88391039, 888.00221239]])"
      ]
     },
     "execution_count": 27,
     "metadata": {},
     "output_type": "execute_result"
    }
   ],
   "source": [
    "X"
   ]
  },
  {
   "cell_type": "code",
   "execution_count": null,
   "metadata": {
    "id": "jgOpkGV7fwgk"
   },
   "outputs": [],
   "source": [
    "#tsdata[:15]"
   ]
  },
  {
   "cell_type": "code",
   "execution_count": null,
   "metadata": {
    "id": "kg6HPaVAfwgl"
   },
   "outputs": [],
   "source": [
    "#X[:10]"
   ]
  },
  {
   "cell_type": "code",
   "execution_count": null,
   "metadata": {
    "id": "w_dGcgJffwgl"
   },
   "outputs": [],
   "source": [
    "#y[:4]"
   ]
  },
  {
   "cell_type": "code",
   "execution_count": 28,
   "metadata": {
    "id": "ujOTMeQtfwgl"
   },
   "outputs": [],
   "source": [
    "X = X.reshape((X.shape[0], X.shape[1], n_features))\n",
    "trainX = X[:train_size]\n",
    "trainy = y[:train_size]\n",
    "testX = X[train_size:]\n",
    "testy = y[train_size:]"
   ]
  },
  {
   "cell_type": "code",
   "execution_count": null,
   "metadata": {
    "id": "esHo-uTSfwgl"
   },
   "outputs": [],
   "source": [
    "#trainX"
   ]
  },
  {
   "cell_type": "markdown",
   "metadata": {
    "id": "TRgwYZF8fwgl"
   },
   "source": [
    "### LSTM model for time series prediction"
   ]
  },
  {
   "cell_type": "code",
   "execution_count": 29,
   "metadata": {
    "id": "wyTqz54afwgl"
   },
   "outputs": [],
   "source": [
    "model = Sequential()\n",
    "model.add(LSTM(50, activation='relu', input_shape=(n_steps, n_features)))\n",
    "model.add(Dense(1))\n",
    "model.compile(optimizer='adam', loss='mse')"
   ]
  },
  {
   "cell_type": "code",
   "execution_count": null,
   "metadata": {
    "colab": {
     "base_uri": "https://localhost:8080/"
    },
    "id": "BBivvn__fwgl",
    "outputId": "f18e51ba-0cd7-4ee7-e937-138ad3956806"
   },
   "outputs": [
    {
     "name": "stdout",
     "output_type": "stream",
     "text": [
      "Epoch 1/20\n",
      "80/80 [==============================] - 2s 7ms/step - loss: 31124.3047\n",
      "Epoch 2/20\n",
      "80/80 [==============================] - 1s 7ms/step - loss: 649.8495\n",
      "Epoch 3/20\n",
      "80/80 [==============================] - 1s 7ms/step - loss: 565.4858\n",
      "Epoch 4/20\n",
      "80/80 [==============================] - 1s 10ms/step - loss: 600.4246\n",
      "Epoch 5/20\n",
      "80/80 [==============================] - 1s 10ms/step - loss: 575.7280\n",
      "Epoch 6/20\n",
      "80/80 [==============================] - 1s 9ms/step - loss: 634.3151\n",
      "Epoch 7/20\n",
      "80/80 [==============================] - 1s 10ms/step - loss: 607.9211\n",
      "Epoch 8/20\n",
      "80/80 [==============================] - 1s 7ms/step - loss: 662.7562\n",
      "Epoch 9/20\n",
      "80/80 [==============================] - 0s 6ms/step - loss: 677.6733\n",
      "Epoch 10/20\n",
      "80/80 [==============================] - 1s 7ms/step - loss: 593.4159\n",
      "Epoch 11/20\n",
      "80/80 [==============================] - 1s 8ms/step - loss: 565.1532\n",
      "Epoch 12/20\n",
      "80/80 [==============================] - 1s 7ms/step - loss: 598.8971\n",
      "Epoch 13/20\n",
      "80/80 [==============================] - 1s 7ms/step - loss: 662.3566\n",
      "Epoch 14/20\n",
      "80/80 [==============================] - 1s 6ms/step - loss: 655.1357\n",
      "Epoch 15/20\n",
      "80/80 [==============================] - 1s 7ms/step - loss: 628.2841\n",
      "Epoch 16/20\n",
      "80/80 [==============================] - 1s 7ms/step - loss: 627.6763\n",
      "Epoch 17/20\n",
      "80/80 [==============================] - 1s 7ms/step - loss: 690.8748\n",
      "Epoch 18/20\n",
      "80/80 [==============================] - 0s 6ms/step - loss: 627.3671\n",
      "Epoch 19/20\n",
      "80/80 [==============================] - 1s 6ms/step - loss: 641.5281\n",
      "Epoch 20/20\n",
      "80/80 [==============================] - 1s 7ms/step - loss: 656.6316\n"
     ]
    },
    {
     "data": {
      "text/plain": [
       "<keras.src.callbacks.History at 0x7e9705cbc970>"
      ]
     },
     "execution_count": 36,
     "metadata": {},
     "output_type": "execute_result"
    }
   ],
   "source": [
    "model.fit(trainX, trainy, epochs=20, verbose=1)"
   ]
  },
  {
   "cell_type": "markdown",
   "metadata": {
    "id": "9PzeMsDNfwgl"
   },
   "source": [
    "### Prediction (test set)"
   ]
  },
  {
   "cell_type": "code",
   "execution_count": 30,
   "metadata": {
    "id": "8aitN-Mnfwgl"
   },
   "outputs": [],
   "source": [
    "yhat = model.predict(testX, verbose=0)"
   ]
  },
  {
   "cell_type": "code",
   "execution_count": 31,
   "metadata": {
    "id": "zDIhlnZwfwgl"
   },
   "outputs": [],
   "source": [
    "pred = []\n",
    "for i in range(yhat.shape[0]):\n",
    "    pred.append(yhat[i])\n",
    "pred = np.array(pred)"
   ]
  },
  {
   "cell_type": "code",
   "execution_count": 32,
   "metadata": {
    "colab": {
     "base_uri": "https://localhost:8080/",
     "height": 472
    },
    "id": "gulV3IC0fwgl",
    "outputId": "c440f735-ee40-4f20-f8cc-02725ca54531"
   },
   "outputs": [
    {
     "data": {
      "text/plain": [
       "Text(0.5, 0, 'Days')"
      ]
     },
     "execution_count": 32,
     "metadata": {},
     "output_type": "execute_result"
    },
    {
     "data": {
      "image/png": "[encoded data removed]",
      "text/plain": [
       "<Figure size 640x480 with 1 Axes>"
      ]
     },
     "metadata": {},
     "output_type": "display_data"
    }
   ],
   "source": [
    "plt.plot(range(len(tsdata)),tsdata,label='True')\n",
    "plt.plot(range(len(tsdata)-len(testy),len(tsdata)),pred,label='Predicted')\n",
    "plt.legend(loc='upper left')\n",
    "plt.xlabel('Days')\n",
    "\n"
   ]
  },
  {
   "cell_type": "markdown",
   "metadata": {
    "id": "eEVKhOT0fwgm"
   },
   "source": [
    "Generating Element names using RNN"
   ]
  },
  {
   "cell_type": "markdown",
   "metadata": {
    "id": "NYbOMHR_fwgm"
   },
   "source": [
    "### Data"
   ]
  },
  {
   "cell_type": "code",
   "execution_count": 62,
   "metadata": {
    "id": "xstW90hGfwgm"
   },
   "outputs": [],
   "source": [
    "data = open('/content/drive/MyDrive/elements.txt', 'r').read()\n",
    "data= data.lower()\n",
    "chars = list(set('\\n'.join(data)))\n",
    "data_size, vocab_size = len(data), len(chars)\n"
   ]
  },
  {
   "cell_type": "code",
   "execution_count": 63,
   "metadata": {
    "colab": {
     "base_uri": "https://localhost:8080/",
     "height": 132
    },
    "id": "snFgs-ddfwgm",
    "outputId": "998dc09d-8aa0-4374-edbf-b857ea7c2ecb"
   },
   "outputs": [
    {
     "data": {
      "application/vnd.google.colaboratory.intrinsic+json": {
       "type": "string"
      },
      "text/plain": [
       "'hydrogen\\nhelium\\nlithium\\nberyllium\\nboron\\ncarbon\\nnitrogen\\noxygen\\nfluorine\\nneon\\nsodium\\nmagnesium\\naluminium\\nsilicon\\nphosphorus\\nsulfur\\nchlorine\\nargon\\npotassium\\ncalcium\\nscandium\\ntitanium\\nvanadium\\nchromium\\nmanganese\\niron\\ncobalt\\nnickel\\ncopper\\nzinc\\ngallium\\ngermanium\\narsenic\\nselenium\\nbromine\\nkrypton\\nrubidium\\nstrontium\\nyttrium\\nzirconium\\nniobium\\nmolybdenum\\ntechnetium\\nruthenium\\nrhodium\\npalladium\\nsilver\\ncadmium\\nindium\\ntin\\nantimony\\ntellurium\\niodine\\nxenon\\ncesium\\nbarium\\nlanthanum\\ncerium\\npraseodymium\\nneodymium\\npromethium\\nsamarium\\neuropium\\ngadolinium\\nterbium\\ndysprosium\\nholmium\\nerbium\\nthulium\\nytterbium\\nlutetium\\nhafnium\\ntantalum\\ntungsten\\nrhenium\\nosmium\\niridium\\nplatinum\\ngold\\nmercury\\nthallium\\nlead\\nbismuth\\npolonium\\nastatine\\nradon\\nfrancium\\nradium\\nactinium\\nthorium\\nprotactinium\\nuranium\\nneptunium\\nplutonium\\namericium\\ncurium\\nberkelium\\ncalifornium\\neinsteinium\\nfermium\\nmendelevium\\nnobelium\\nlawrencium\\nrutherfordium\\ndubnium\\nseaborgium\\nbohrium\\nhassium\\nmeitnerium\\ndarmstadtium\\nroentgenium\\ncopernicium\\nnihonium\\nflerovium\\nmoscovium\\nlivermorium\\ntennessine\\noganesson'"
      ]
     },
     "execution_count": 63,
     "metadata": {},
     "output_type": "execute_result"
    }
   ],
   "source": [
    "data"
   ]
  },
  {
   "cell_type": "code",
   "execution_count": 64,
   "metadata": {
    "colab": {
     "base_uri": "https://localhost:8080/"
    },
    "id": "aAMLUc2HmENY",
    "outputId": "7d8988df-bc8f-4409-c087-7272fcd64bee"
   },
   "outputs": [
    {
     "name": "stdout",
     "output_type": "stream",
     "text": [
      "hydrogen\n",
      "helium\n",
      "lithium\n",
      "beryllium\n",
      "boron\n",
      "carbon\n",
      "nitrogen\n",
      "oxygen\n",
      "fluorine\n",
      "neon\n",
      "sodium\n",
      "magnesium\n",
      "aluminium\n",
      "silicon\n",
      "phosphorus\n",
      "sulfur\n",
      "chlorine\n",
      "argon\n",
      "potassium\n",
      "calcium\n",
      "scandium\n",
      "titanium\n",
      "vanadium\n",
      "chromium\n",
      "manganese\n",
      "iron\n",
      "cobalt\n",
      "nickel\n",
      "copper\n",
      "zinc\n",
      "gallium\n",
      "germanium\n",
      "arsenic\n",
      "selenium\n",
      "bromine\n",
      "krypton\n",
      "rubidium\n",
      "strontium\n",
      "yttrium\n",
      "zirconium\n",
      "niobium\n",
      "molybdenum\n",
      "technetium\n",
      "ruthenium\n",
      "rhodium\n",
      "palladium\n",
      "silver\n",
      "cadmium\n",
      "indium\n",
      "tin\n",
      "antimony\n",
      "tellurium\n",
      "iodine\n",
      "xenon\n",
      "cesium\n",
      "barium\n",
      "lanthanum\n",
      "cerium\n",
      "praseodymium\n",
      "neodymium\n",
      "promethium\n",
      "samarium\n",
      "europium\n",
      "gadolinium\n",
      "terbium\n",
      "dysprosium\n",
      "holmium\n",
      "erbium\n",
      "thulium\n",
      "ytterbium\n",
      "lutetium\n",
      "hafnium\n",
      "tantalum\n",
      "tungsten\n",
      "rhenium\n",
      "osmium\n",
      "iridium\n",
      "platinum\n",
      "gold\n",
      "mercury\n",
      "thallium\n",
      "lead\n",
      "bismuth\n",
      "polonium\n",
      "astatine\n",
      "radon\n",
      "francium\n",
      "radium\n",
      "actinium\n",
      "thorium\n",
      "protactinium\n",
      "uranium\n",
      "neptunium\n",
      "plutonium\n",
      "americium\n",
      "curium\n",
      "berkelium\n",
      "californium\n",
      "einsteinium\n",
      "fermium\n",
      "mendelevium\n",
      "nobelium\n",
      "lawrencium\n",
      "rutherfordium\n",
      "dubnium\n",
      "seaborgium\n",
      "bohrium\n",
      "hassium\n",
      "meitnerium\n",
      "darmstadtium\n",
      "roentgenium\n",
      "copernicium\n",
      "nihonium\n",
      "flerovium\n",
      "moscovium\n",
      "livermorium\n",
      "tennessine\n",
      "oganesson\n"
     ]
    }
   ],
   "source": [
    "# Open the file in read mode\n",
    "with open('/content/drive/MyDrive/elements.txt', 'r') as file:\n",
    "    # Read the entire file contents\n",
    "    data = file.read()\n",
    "\n",
    "# Print the data read from the file\n",
    "print(data)\n"
   ]
  },
  {
   "cell_type": "markdown",
   "metadata": {
    "id": "XRwFO3Aqfwgm"
   },
   "source": [
    "### Model Architecture"
   ]
  },
  {
   "cell_type": "markdown",
   "metadata": {
    "id": "fuJ1e89cfwgm"
   },
   "source": [
    "<img src=\"rnn_langmod.png\" style=\"width:500;height:300px;\">"
   ]
  },
  {
   "cell_type": "code",
   "execution_count": 65,
   "metadata": {
    "id": "SediRYaCfwgm"
   },
   "outputs": [],
   "source": [
    "import random\n",
    "import string\n",
    "import torch\n",
    "import torch.nn as nn\n",
    "import torch.optim as optim\n",
    "from torch.utils.data import Dataset, DataLoader\n",
    "\n",
    "# Read\n",
    "with open('/content/drive/MyDrive/elements.txt', 'r') as file:\n",
    "    element_names = file.read().splitlines()\n",
    "\n",
    "# Defining the dataset\n",
    "class ElementNamesDataset(Dataset):\n",
    "    def __init__(self, element_names, max_length=20):\n",
    "        self.element_names = element_names\n",
    "        self.max_length = max_length\n",
    "\n",
    "    def __len__(self):\n",
    "        return len(self.element_names)\n",
    "\n",
    "    def __getitem__(self, idx):\n",
    "        name = self.element_names[idx]\n",
    "        return name\n",
    "\n"
   ]
  },
  {
   "cell_type": "code",
   "execution_count": 78,
   "metadata": {
    "colab": {
     "base_uri": "https://localhost:8080/"
    },
    "id": "WQqYYvEQqqPr",
    "outputId": "aaf7e767-887d-4441-f2d2-edb8a9840a8b"
   },
   "outputs": [
    {
     "name": "stdout",
     "output_type": "stream",
     "text": [
      "Generated Element Names:\n",
      "Aggggg\n",
      "Rggggg\n",
      "Sggggg\n",
      "Pggggg\n",
      "Qggggg\n",
      "Rggggg\n",
      "Rggggg\n",
      "Nggggg\n",
      "Xggggg\n",
      "Cggggg\n"
     ]
    }
   ],
   "source": [
    "import torch\n",
    "import torch.nn as nn\n",
    "import torch.optim as optim\n",
    "from torch.utils.data import DataLoader\n",
    "import string\n",
    "import random\n",
    "\n",
    "# Defining the dataset\n",
    "class ElementNamesDataset:\n",
    "    def __init__(self, element_names):\n",
    "        self.element_names = element_names\n",
    "\n",
    "    def __len__(self):\n",
    "        return len(self.element_names)\n",
    "\n",
    "    def __getitem__(self, idx):\n",
    "        return self.element_names[idx]\n",
    "\n",
    "# RNN models with LSTM\n",
    "class CharRNN(nn.Module):\n",
    "    def __init__(self, input_size, hidden_size, output_size):\n",
    "        super(CharRNN, self).__init__()\n",
    "        self.hidden_size = hidden_size\n",
    "        self.rnn = nn.LSTM(input_size, hidden_size, batch_first=True)\n",
    "        self.fc = nn.Linear(hidden_size, output_size)\n",
    "\n",
    "    def forward(self, x, hidden):\n",
    "        output, hidden = self.rnn(x, hidden)\n",
    "        output = self.fc(output)\n",
    "        return output, hidden\n",
    "\n",
    "    def init_hidden(self, batch_size):\n",
    "        return (torch.zeros(1, batch_size, self.hidden_size),\n",
    "                torch.zeros(1, batch_size, self.hidden_size))\n",
    "\n",
    "# Generating element names\n",
    "def generate_element_name(model, start_char='A', max_length=5, temperature=0.5):\n",
    "    model.eval()\n",
    "    with torch.no_grad():\n",
    "        input = torch.zeros(1, 1, len(string.ascii_letters))\n",
    "        start_char_idx = string.ascii_letters.index(start_char)\n",
    "        input[0, 0, start_char_idx] = 1\n",
    "        hidden = model.init_hidden(1)  # Change batch size to 1\n",
    "        name = start_char\n",
    "\n",
    "        for i in range(max_length):\n",
    "            output, hidden = model(input, hidden)\n",
    "            output_dist = output.squeeze().div(temperature).exp()\n",
    "            top_i = torch.multinomial(output_dist, 1)[0]\n",
    "            if top_i == len(string.ascii_letters) - 1:  # End of name\n",
    "                break\n",
    "            else:\n",
    "                char = string.ascii_letters[top_i]\n",
    "                name += char\n",
    "                input.zero_()\n",
    "                input[0, 0, top_i] = 1\n",
    "\n",
    "        return name\n",
    "\n",
    "# Read elements\n",
    "with open(\"/content/drive/MyDrive/elements.txt\", \"r\") as file:\n",
    "    element_names = file.read().splitlines()\n",
    "\n",
    "# Hyperparameters\n",
    "input_size = len(string.ascii_letters)\n",
    "hidden_size = 128\n",
    "output_size = len(string.ascii_letters) + 1\n",
    "learning_rate = 0.05\n",
    "num_epochs = 300\n",
    "batch_size = 64\n",
    "\n",
    "# Create dataset\n",
    "dataset = ElementNamesDataset(element_names)\n",
    "dataloader = DataLoader(dataset, batch_size=batch_size, shuffle=True)\n",
    "\n",
    "# Initializing model, criterion, and optimizer\n",
    "model = CharRNN(input_size, hidden_size, output_size)\n",
    "criterion = nn.CrossEntropyLoss()\n",
    "optimizer = optim.Adam(model.parameters(), lr=learning_rate)\n",
    "\n",
    "# Training the model\n",
    "for epoch in range(num_epochs):\n",
    "    for names in dataloader:\n",
    "        for name in names:\n",
    "            name_encoded = torch.zeros(1, len(name), input_size)\n",
    "            for idx, char in enumerate(name):\n",
    "                char_idx = string.ascii_letters.index(char)\n",
    "                name_encoded[0, idx, char_idx] = 1\n",
    "\n",
    "            target = torch.zeros(1, len(name) + 1, dtype=torch.long)\n",
    "            for idx in range(len(name)):\n",
    "                target[0, idx] = string.ascii_letters.index(name[idx])\n",
    "            target[0, len(name)] = len(string.ascii_letters)\n",
    "\n",
    "            optimizer.zero_grad()\n",
    "\n",
    "            hidden = model.init_hidden(1)\n",
    "            output, _ = model(name_encoded, hidden)\n",
    "\n",
    "\n",
    "            loss = criterion(output.view(-1, output_size), target.view(-1)[:-1])\n",
    "\n",
    "            loss.backward()\n",
    "            optimizer.step()\n",
    "\n",
    "# Generating element names\n",
    "num_names_to_generate = 10\n",
    "generated_names = []\n",
    "for _ in range(num_names_to_generate):\n",
    "    start_char = random.choice(string.ascii_uppercase)\n",
    "    generated_name = generate_element_name(model, start_char=start_char)\n",
    "    generated_names.append(generated_name)\n",
    "\n",
    "# Printing\n",
    "print(\"Generated Element Names:\")\n",
    "for name in generated_names:\n",
    "    print(name)\n"
   ]
  },
  {
   "cell_type": "code",
   "execution_count": 67,
   "metadata": {
    "colab": {
     "base_uri": "https://localhost:8080/"
    },
    "id": "qCJAYCcgrPbT",
    "outputId": "bae0305f-7b07-49ca-d256-6deebed2a6d0"
   },
   "outputs": [
    {
     "name": "stdout",
     "output_type": "stream",
     "text": [
      "CharRNN(\n",
      "  (rnn): LSTM(52, 128, batch_first=True)\n",
      "  (fc): Linear(in_features=128, out_features=53, bias=True)\n",
      ")\n"
     ]
    }
   ],
   "source": [
    "print(model)"
   ]
  },
  {
   "cell_type": "code",
   "execution_count": 75,
   "metadata": {
    "colab": {
     "base_uri": "https://localhost:8080/"
    },
    "id": "O9lmeQd6rwyT",
    "outputId": "3d7f6054-7912-4f5e-c2de-b0230e687fbd"
   },
   "outputs": [
    {
     "name": "stdout",
     "output_type": "stream",
     "text": [
      "Generated Element Names:\n",
      "Hhetium\n",
      "Ffltium\n",
      "Ffetium\n",
      "Iintium\n",
      "Ddatium\n",
      "Yytnium\n",
      "Tterium\n",
      "Ddatium\n",
      "Rretium\n",
      "Yyttium\n"
     ]
    }
   ],
   "source": [
    "import random\n",
    "import string\n",
    "import torch\n",
    "import torch.nn as nn\n",
    "import torch.optim as optim\n",
    "from torch.utils.data import Dataset, DataLoader\n",
    "\n",
    "\n",
    "class CharRNN(nn.Module):\n",
    "    def __init__(self, input_size, hidden_size, output_size):\n",
    "        super(CharRNN, self).__init__()\n",
    "        self.hidden_size = hidden_size\n",
    "        self.rnn = nn.RNN(input_size, hidden_size, batch_first=True)\n",
    "        self.fc = nn.Linear(hidden_size, output_size)\n",
    "\n",
    "    def forward(self, x, hidden):\n",
    "        output, hidden = self.rnn(x, hidden)\n",
    "        output = self.fc(output)\n",
    "        return output, hidden\n",
    "\n",
    "    def init_hidden(self, batch_size):\n",
    "        return torch.zeros(1, batch_size, self.hidden_size)\n",
    "\n",
    "\n",
    "def generate_element_name(model, start_char='a', max_length=3, temperature=0.5):\n",
    "    model.eval()\n",
    "    with torch.no_grad():\n",
    "        input = torch.zeros(1, 1, len(string.ascii_lowercase))\n",
    "        start_char_idx = string.ascii_lowercase.index(start_char)\n",
    "        input[0, 0, start_char_idx] = 1\n",
    "        hidden = model.init_hidden(1)\n",
    "        name = start_char\n",
    "\n",
    "        for i in range(max_length):\n",
    "            output, hidden = model(input, hidden)\n",
    "            output_dist = output.squeeze().div(temperature).exp()\n",
    "            top_i = torch.multinomial(output_dist, 1)[0]\n",
    "            if top_i == len(string.ascii_lowercase) - 1:  # End of name\n",
    "                break\n",
    "            else:\n",
    "                char = string.ascii_lowercase[top_i]\n",
    "                name += char\n",
    "                input.zero_()\n",
    "                input[0, 0, top_i] = 1\n",
    "\n",
    "\n",
    "        if not name.endswith(\"ium\"):\n",
    "            name += \"ium\"\n",
    "\n",
    "        return name.capitalize()\n",
    "\n",
    "\n",
    "\n",
    "input_size = len(string.ascii_lowercase)\n",
    "hidden_size = 128\n",
    "output_size = len(string.ascii_lowercase) + 1\n",
    "num_epochs = 200\n",
    "batch_size = 64\n",
    "\n",
    "\n",
    "class ElementNamesDataset(Dataset):\n",
    "    def __init__(self, element_names):\n",
    "        self.element_names = element_names\n",
    "\n",
    "    def __len__(self):\n",
    "        return len(self.element_names)\n",
    "\n",
    "    def __getitem__(self, idx):\n",
    "        return self.element_names[idx]\n",
    "\n",
    "\n",
    "dataset = ElementNamesDataset(element_names)\n",
    "dataloader = DataLoader(dataset, batch_size=batch_size, shuffle=True)\n",
    "\n",
    "\n",
    "model = CharRNN(input_size, hidden_size, output_size)\n",
    "criterion = nn.CrossEntropyLoss()\n",
    "optimizer = optim.Adam(model.parameters(), lr=learning_rate)\n",
    "\n",
    "\n",
    "for epoch in range(num_epochs):\n",
    "    for names in dataloader:\n",
    "        for name in names:\n",
    "            name_encoded = torch.zeros(1, len(name), input_size)\n",
    "            for idx, char in enumerate(name):\n",
    "                char_idx = string.ascii_lowercase.index(char)\n",
    "                name_encoded[0, idx, char_idx] = 1\n",
    "\n",
    "            target = torch.zeros(1, len(name) + 1, dtype=torch.long)\n",
    "            for idx in range(len(name)):\n",
    "                target[0, idx] = string.ascii_lowercase.index(name[idx])\n",
    "            target[0, len(name)] = len(string.ascii_lowercase)\n",
    "\n",
    "            optimizer.zero_grad()\n",
    "\n",
    "            hidden = model.init_hidden(1)\n",
    "            output, _ = model(name_encoded, hidden)\n",
    "\n",
    "\n",
    "            loss = criterion(output.view(-1, output_size), target.view(-1)[:-1])\n",
    "\n",
    "            loss.backward()\n",
    "            optimizer.step()\n",
    "\n",
    "# Generating element names\n",
    "num_names_to_generate = 10\n",
    "generated_names = []\n",
    "for _ in range(num_names_to_generate):\n",
    "    start_char = random.choice(string.ascii_lowercase)\n",
    "    generated_name = generate_element_name(model, start_char=start_char)\n",
    "    generated_names.append(generated_name)\n",
    "\n",
    "# Print generated names\n",
    "print(\"Generated Element Names:\")\n",
    "for name in generated_names:\n",
    "    print(name)\n"
   ]
  }
 ],
 "metadata": {
  "colab": {
   "provenance": []
  },
  "kernelspec": {
   "display_name": "Python 3 (ipykernel)",
   "language": "python",
   "name": "python3"
  },
  "language_info": {
   "codemirror_mode": {
    "name": "ipython",
    "version": 3
   },
   "file_extension": ".py",
   "mimetype": "text/x-python",
   "name": "python",
   "nbconvert_exporter": "python",
   "pygments_lexer": "ipython3",
   "version": "3.12.2"
  }
 },
 "nbformat": 4,
 "nbformat_minor": 4
}
